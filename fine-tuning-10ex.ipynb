{
 "cells": [
  {
   "cell_type": "code",
   "execution_count": 2,
   "id": "25037e7f",
   "metadata": {},
   "outputs": [],
   "source": [
    "import openai\n",
    "import os"
   ]
  },
  {
   "cell_type": "code",
   "execution_count": 5,
   "id": "14f94261",
   "metadata": {},
   "outputs": [
    {
     "name": "stdout",
     "output_type": "stream",
     "text": [
      "Fine-tune job ID: ftjob-XV57bM0NkiLZO4mBNrTI6oKK\n"
     ]
    }
   ],
   "source": [
    "openai.api_key = \"sk-...\"\n",
    "response = openai.fine_tuning.jobs.create(\n",
    "    training_file=\"file-LuZv9MkibJgPEQWfWyMq9H\",\n",
    "    model=\"gpt-3.5-turbo\"\n",
    ")\n",
    "\n",
    "print(\"Fine-tune job ID:\", response.id)"
   ]
  },
  {
   "cell_type": "code",
   "execution_count": 10,
   "id": "82097124-e3c4-4f13-8c04-fb2d0c0db9a3",
   "metadata": {},
   "outputs": [
    {
     "name": "stdout",
     "output_type": "stream",
     "text": [
      "Status: succeeded\n"
     ]
    }
   ],
   "source": [
    "job = openai.fine_tuning.jobs.retrieve(\"ftjob-XV57bM0NkiLZO4mBNrTI6oKK\")\n",
    "print(\"Status:\", job.status)"
   ]
  },
  {
   "cell_type": "code",
   "execution_count": 11,
   "id": "a61a6101-775f-43a4-98c2-6d883f9a4556",
   "metadata": {},
   "outputs": [
    {
     "name": "stdout",
     "output_type": "stream",
     "text": [
      "Model: gpt-3.5-turbo-0125\n",
      "Status: succeeded\n",
      "Training File ID: file-LuZv9MkibJgPEQWfWyMq9H\n",
      "Trained Tokens: 26890\n"
     ]
    }
   ],
   "source": [
    "job = openai.fine_tuning.jobs.retrieve(\"ftjob-XV57bM0NkiLZO4mBNrTI6oKK\")\n",
    "print(f\"Model: {job.model}\")\n",
    "print(f\"Status: {job.status}\")\n",
    "print(f\"Training File ID: {job.training_file}\")\n",
    "print(f\"Trained Tokens: {job.trained_tokens}\")"
   ]
  },
  {
   "cell_type": "code",
   "execution_count": 12,
   "id": "e8e522d3-9a54-4c89-b840-5775364c24d9",
   "metadata": {},
   "outputs": [
    {
     "name": "stdout",
     "output_type": "stream",
     "text": [
      "Estimated training cost: $0.2151\n"
     ]
    }
   ],
   "source": [
    "trained_tokens = job.trained_tokens\n",
    "training_cost = trained_tokens * 0.008 / 1000\n",
    "print(f\"Estimated training cost: ${training_cost:.4f}\")"
   ]
  },
  {
   "cell_type": "code",
   "execution_count": 13,
   "id": "446e0559-78c8-4514-ad1f-14cba163e605",
   "metadata": {},
   "outputs": [
    {
     "name": "stdout",
     "output_type": "stream",
     "text": [
      "Fine-tuned model: ft:gpt-3.5-turbo-0125:aidecision::BYyrx5rU\n"
     ]
    }
   ],
   "source": [
    "job = openai.fine_tuning.jobs.retrieve(\"ftjob-XV57bM0NkiLZO4mBNrTI6oKK\")\n",
    "print(\"Fine-tuned model:\", job.fine_tuned_model)"
   ]
  },
  {
   "cell_type": "code",
   "execution_count": 14,
   "id": "6360cc75-1ffe-46c5-84cf-ce0b522f9593",
   "metadata": {},
   "outputs": [
    {
     "name": "stdout",
     "output_type": "stream",
     "text": [
      "It seems like you're at a crossroads, weighing the stability of your teaching job against the potential growth of your AI business. To evaluate this decision through the Regret Minimization Framework, consider the following:\n",
      "\n",
      "1. Define your values and priorities: Reflect on what matters most to you in the long term. Is it financial security, impact, personal growth, or a balance of all three?\n",
      "\n",
      "2. Imagine your future selves: Envision two scenarios - one where you pursue your AI business full-time and one where you continue teaching. How would each version of yourself feel in 1, 5, or 10 years if you didn't take this opportunity?\n",
      "\n",
      "3. Assess risk tolerance: Evaluate the inherent risks of going full-time on your business. How stable is your current income stream? What is the worst-case outcome if your business doesn't succeed?\n",
      "\n",
      "4. Analyze growth potential: Quantify the potential upside of focusing solely on your AI business. How much faster could it grow with your full attention? Are there concrete milestones that, if achieved, would make this decision a clear win?\n",
      "\n",
      "5. Seek advice from mentors: Talk to trusted advisors in both the education and tech industries. What do they see as the pros and cons of each path? Are there creative ways to blend them, like consulting for ed-tech companies?\n",
      "\n",
      "Ultimately, this decision hinges on your risk tolerance, growth appetite, and alignment with your long-term vision. By weighing these factors through the lens of regret minimization, you can make a choice that prioritizes your future self's fulfillment over short-term comfort.\n"
     ]
    }
   ],
   "source": [
    "response = openai.chat.completions.create(\n",
    "    model=\"ft:gpt-3.5-turbo-0125:aidecision::BYyrx5rU\",\n",
    "    messages=[\n",
    "        {\n",
    "            \"role\": \"user\",\n",
    "            \"content\": \"Act like a long-term decision coach. I want to use the Regret Minimization Framework. Help me evaluate whether I should go full-time on my AI business or keep teaching for stability.\"\n",
    "        }\n",
    "    ]\n",
    ")\n",
    "\n",
    "print(response.choices[0].message.content)"
   ]
  },
  {
   "cell_type": "code",
   "execution_count": null,
   "id": "ce81fff0-d852-42ef-b3c1-1d2eeed3c875",
   "metadata": {},
   "outputs": [],
   "source": []
  }
 ],
 "metadata": {
  "kernelspec": {
   "display_name": "Python (openai-finetune)",
   "language": "python",
   "name": "openai-finetune"
  },
  "language_info": {
   "codemirror_mode": {
    "name": "ipython",
    "version": 3
   },
   "file_extension": ".py",
   "mimetype": "text/x-python",
   "name": "python",
   "nbconvert_exporter": "python",
   "pygments_lexer": "ipython3",
   "version": "3.10.17"
  }
 },
 "nbformat": 4,
 "nbformat_minor": 5
}
